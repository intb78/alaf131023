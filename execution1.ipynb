{
  "nbformat": 4,
  "nbformat_minor": 0,
  "metadata": {
    "colab": {
      "provenance": [],
      "authorship_tag": "ABX9TyOY7YpVEaVfyiQfHDVxtqW6",
      "include_colab_link": true
    },
    "kernelspec": {
      "name": "python3",
      "display_name": "Python 3"
    },
    "language_info": {
      "name": "python"
    }
  },
  "cells": [
    {
      "cell_type": "markdown",
      "metadata": {
        "id": "view-in-github",
        "colab_type": "text"
      },
      "source": [
        "<a href=\"https://colab.research.google.com/github/intb78/alaf131023/blob/main/execution1.ipynb\" target=\"_parent\"><img src=\"https://colab.research.google.com/assets/colab-badge.svg\" alt=\"Open In Colab\"/></a>"
      ]
    },
    {
      "cell_type": "code",
      "execution_count": null,
      "metadata": {
        "colab": {
          "base_uri": "https://localhost:8080/"
        },
        "id": "0eUsBACDFksK",
        "outputId": "afbbc12a-8633-4a7b-e5ef-c1d4b7644e14"
      },
      "outputs": [
        {
          "output_type": "stream",
          "name": "stdout",
          "text": [
            "4 alaf\n"
          ]
        }
      ],
      "source": [
        "x= 4\n",
        "y= \"alaf\"\n",
        "print(x,y)\n",
        "# you don't have to appoint the type. Python appoints it directly"
      ]
    },
    {
      "cell_type": "code",
      "source": [
        "#take user input, calculate input and print\n",
        "height= float(input(\"Please enter the height: \"))\n",
        "width= float(input(\"Please enter the width: \"))\n",
        "area= height * width\n",
        "print(f'The area is : {area}.')\n",
        "#another way to type this code\n",
        "print(\"The area is :\", area, \".\")"
      ],
      "metadata": {
        "colab": {
          "base_uri": "https://localhost:8080/"
        },
        "id": "-TVySJlzHeX-",
        "outputId": "8beb09cb-3071-43cc-fc00-e5df8c3b235b"
      },
      "execution_count": null,
      "outputs": [
        {
          "output_type": "stream",
          "name": "stdout",
          "text": [
            "Please enter the height: 30\n",
            "Please enter the width: 20\n",
            "The area is : 600.0.\n",
            "The area is : 600.0 .\n"
          ]
        }
      ]
    },
    {
      "cell_type": "code",
      "source": [
        "#if statements\n",
        "marks = 70\n",
        "result = \"\"\n",
        "if marks < 30 :\n",
        "  result = \"Failed\"\n",
        "  print(\"Session Closed\")\n",
        "elif marks > 75 :\n",
        "  result = \"Passed with distinction\"\n",
        "else :\n",
        "  result = \"Passed\"\n",
        "print(result)"
      ],
      "metadata": {
        "id": "4LJiCfFWIpFg",
        "outputId": "a9630098-99ed-49e4-effb-710a1877f623",
        "colab": {
          "base_uri": "https://localhost:8080/"
        }
      },
      "execution_count": null,
      "outputs": [
        {
          "output_type": "stream",
          "name": "stdout",
          "text": [
            "Passed\n"
          ]
        }
      ]
    },
    {
      "cell_type": "code",
      "source": [
        "#if statements with user input\n",
        "marks = int(input(\"Please enter the marks: \")) # convert user's input (string) to int\n",
        "result = \"\"\n",
        "if marks < 30 :\n",
        "  result = \"Failed\"\n",
        "elif marks > 75 :\n",
        "  result = \"Passed with distinction\"\n",
        "else :\n",
        "  result = \"Passed\"\n",
        "print(result)\n",
        "print(\"Session Closed. Have a nice day\")"
      ],
      "metadata": {
        "id": "ZbI3gngmLHiI",
        "outputId": "5e83b523-7ca5-49e1-fed7-2275b1909a90",
        "colab": {
          "base_uri": "https://localhost:8080/"
        }
      },
      "execution_count": 7,
      "outputs": [
        {
          "output_type": "stream",
          "name": "stdout",
          "text": [
            "Please enter the marks: 70\n",
            "Passed\n",
            "Session Closed. Have a nice day\n"
          ]
        }
      ]
    },
    {
      "cell_type": "code",
      "source": [
        "#Another if statement with user input- simple\n",
        "x= int(input(\"Please enter your number: \"))\n",
        "if x < 0 :\n",
        "  print(f'Your number {x} is negative.')\n",
        "else :\n",
        "  print(f'Your number {x} is positive.')"
      ],
      "metadata": {
        "colab": {
          "base_uri": "https://localhost:8080/"
        },
        "id": "mWrZSYlHNfio",
        "outputId": "7a9a4e81-d10c-4a28-f100-0d4e1598f08d"
      },
      "execution_count": 8,
      "outputs": [
        {
          "output_type": "stream",
          "name": "stdout",
          "text": [
            "Please enter your number: -5\n",
            "Your number -5 is negative.\n"
          ]
        }
      ]
    },
    {
      "cell_type": "code",
      "source": [
        "#Another if statement with user input\n",
        "x = int(input(\"Please enter your number: \"))\n",
        "if x < 0 :\n",
        "        x= 0\n",
        "        print(\"Negative number changed to zero.\")\n",
        "elif x == 0 :\n",
        "        print(\"Zero\")\n",
        "elif x == 1 :\n",
        "        print(\"Single\")\n",
        "else :\n",
        "        print(\"More\")"
      ],
      "metadata": {
        "colab": {
          "base_uri": "https://localhost:8080/"
        },
        "id": "f6JAiRWjMVen",
        "outputId": "de37de0a-19c8-4f3d-d06f-2c3bf76fadc7"
      },
      "execution_count": 10,
      "outputs": [
        {
          "output_type": "stream",
          "name": "stdout",
          "text": [
            "Please enter your number: 10\n",
            "More\n"
          ]
        }
      ]
    },
    {
      "cell_type": "code",
      "source": [
        "#lists- print value in list + length of the value\n",
        "words= [\"one\", \"two\", \"three\"]\n",
        "for x in words :\n",
        "  print(x, len(x))"
      ],
      "metadata": {
        "colab": {
          "base_uri": "https://localhost:8080/"
        },
        "id": "jOTLIbPuQgqp",
        "outputId": "4443b997-4d43-466c-fc6a-063bbd773d51"
      },
      "execution_count": 11,
      "outputs": [
        {
          "output_type": "stream",
          "name": "stdout",
          "text": [
            "one 3\n",
            "two 3\n",
            "three 5\n"
          ]
        }
      ]
    },
    {
      "cell_type": "code",
      "source": [
        "#lists with differnt value types- use for loop to iterate over each element in the list\n",
        "a = ['spam', 'eggs', 100, 1234, 2*2]\n",
        "for i in range(len(a)) :\n",
        "  print(i, a[i])"
      ],
      "metadata": {
        "colab": {
          "base_uri": "https://localhost:8080/"
        },
        "id": "HzQYWfRkRHYz",
        "outputId": "fae2733d-7ac5-474a-bb7d-ffdd1638e6bf"
      },
      "execution_count": 12,
      "outputs": [
        {
          "output_type": "stream",
          "name": "stdout",
          "text": [
            "0 spam\n",
            "1 eggs\n",
            "2 100\n",
            "3 1234\n",
            "4 4\n"
          ]
        }
      ]
    },
    {
      "cell_type": "code",
      "source": [
        "for n in range(2, 20):\n",
        "  for x in range (2, n):\n",
        "    if n % x == 0 :\n",
        "      print (n, 'equals', x, '*', n/x)\n",
        "      break\n",
        "  else:\n",
        "    # loop fell through without finding a factor\n",
        "    print (n, 'is prime')"
      ],
      "metadata": {
        "colab": {
          "base_uri": "https://localhost:8080/"
        },
        "id": "VRZXpS2ITS04",
        "outputId": "a4f35924-1c98-4337-c150-8edc1513f7f4"
      },
      "execution_count": 15,
      "outputs": [
        {
          "output_type": "stream",
          "name": "stdout",
          "text": [
            "2 is prime\n",
            "3 is prime\n",
            "4 equals 2 * 2.0\n",
            "5 is prime\n",
            "6 equals 2 * 3.0\n",
            "7 is prime\n",
            "8 equals 2 * 4.0\n",
            "9 equals 3 * 3.0\n",
            "10 equals 2 * 5.0\n",
            "11 is prime\n",
            "12 equals 2 * 6.0\n",
            "13 is prime\n",
            "14 equals 2 * 7.0\n",
            "15 equals 3 * 5.0\n",
            "16 equals 2 * 8.0\n",
            "17 is prime\n",
            "18 equals 2 * 9.0\n",
            "19 is prime\n"
          ]
        }
      ]
    },
    {
      "cell_type": "code",
      "source": [
        "i = 1\n",
        "while i < 6 :\n",
        "  print(i)\n",
        "  i += 1"
      ],
      "metadata": {
        "colab": {
          "base_uri": "https://localhost:8080/"
        },
        "id": "v_cE2AiwaBZK",
        "outputId": "fa149a03-2f10-4b07-c37d-5a33257d0f44"
      },
      "execution_count": 19,
      "outputs": [
        {
          "output_type": "stream",
          "name": "stdout",
          "text": [
            "1\n",
            "2\n",
            "3\n",
            "4\n",
            "5\n"
          ]
        }
      ]
    },
    {
      "cell_type": "code",
      "source": [
        "for i in range(1,6,1) :\n",
        "  print(i)"
      ],
      "metadata": {
        "colab": {
          "base_uri": "https://localhost:8080/"
        },
        "id": "FJOjM7YVazBy",
        "outputId": "6e790982-20d0-450c-c68d-27d90348c69a"
      },
      "execution_count": 21,
      "outputs": [
        {
          "output_type": "stream",
          "name": "stdout",
          "text": [
            "1\n",
            "2\n",
            "3\n",
            "4\n",
            "5\n"
          ]
        }
      ]
    },
    {
      "cell_type": "code",
      "source": [
        "a = ['spam', 'eggs', 100, 1234, 2*2]\n",
        "a[0] # output: 'spam'\n",
        "a[len(a)-1] # == a[-1] output: 4 (product of 2*2)\n",
        "a[len(a)-2] # output: 1234\n",
        "a[1] # output 'eggs'\n",
        "a[2] # output: 100\n",
        "a[:2] # = a[0:2] output: ['spam', 'eggs']\n",
        "a[1:] # the range starts from index (1) and iterates till the end\n",
        "      # output: ['eggs', 100, 1234, 4]"
      ],
      "metadata": {
        "colab": {
          "base_uri": "https://localhost:8080/"
        },
        "id": "YaA9e_Izc4pv",
        "outputId": "ad86fc5c-4ee4-4ff4-9db2-ef3171022bb2"
      },
      "execution_count": 31,
      "outputs": [
        {
          "output_type": "execute_result",
          "data": {
            "text/plain": [
              "['eggs', 100, 1234, 4]"
            ]
          },
          "metadata": {},
          "execution_count": 31
        }
      ]
    },
    {
      "cell_type": "code",
      "source": [
        "def greetings(name):\n",
        "  #print(f'Hello {name}')\n",
        "  print(\"Hello {}\".format(name))\n",
        "greetings(\"Sandra\")\n"
      ],
      "metadata": {
        "colab": {
          "base_uri": "https://localhost:8080/"
        },
        "id": "rJG32JSVgrFn",
        "outputId": "0eb2ae1d-a914-43df-c2a2-a90f726e4e30"
      },
      "execution_count": 35,
      "outputs": [
        {
          "output_type": "stream",
          "name": "stdout",
          "text": [
            "Hello Sandra\n"
          ]
        }
      ]
    },
    {
      "cell_type": "code",
      "source": [
        "def add(x,y) :\n",
        "  z= x + y\n",
        "  return z\n",
        "a = 10\n",
        "b = 20\n",
        "result= add(a,b)\n",
        "#print(f'A + B = {result}') # output: A + B = 30\n",
        "print(f'{a} + {b} = {result}')\n"
      ],
      "metadata": {
        "colab": {
          "base_uri": "https://localhost:8080/"
        },
        "id": "C-B5uRP4pE4K",
        "outputId": "60e93116-1d37-4086-e08e-a3d4b4bc1eac"
      },
      "execution_count": 57,
      "outputs": [
        {
          "output_type": "stream",
          "name": "stdout",
          "text": [
            "10 + 20 = 30\n"
          ]
        }
      ]
    },
    {
      "cell_type": "code",
      "source": [
        "def add(x,y) :\n",
        "  z= x + y\n",
        "  return z\n",
        "d= int(input(\"Please enter the range of numbers required to be used: \"))\n",
        "for i in range(d) :\n",
        "  result = add(i, 10)\n",
        "  #print(f'The sum of {i} + 10 is: {result}.')\n",
        "  print(result)\n",
        ""
      ],
      "metadata": {
        "colab": {
          "base_uri": "https://localhost:8080/"
        },
        "id": "-2KWlM58u20O",
        "outputId": "7d00dd34-2f25-4d9f-ed62-faab0e5632d2"
      },
      "execution_count": 45,
      "outputs": [
        {
          "output_type": "stream",
          "name": "stdout",
          "text": [
            "Please enter the range of numbers required to be used: 6\n",
            "10\n",
            "11\n",
            "12\n",
            "13\n",
            "14\n",
            "15\n"
          ]
        }
      ]
    },
    {
      "cell_type": "code",
      "source": [
        "def add(x,y) :\n",
        "  z= x + y\n",
        "  return z\n",
        "#print(add(20,30)* 50) # output: 2500\n",
        "#print(add(20, 30) + 50) # output: 100\n",
        "print(add(20, 30) / 50) # output: 1"
      ],
      "metadata": {
        "colab": {
          "base_uri": "https://localhost:8080/"
        },
        "id": "2e9wkGEHzcsA",
        "outputId": "9cfb0308-9c70-406a-a541-32d3bb4e9ca6"
      },
      "execution_count": 56,
      "outputs": [
        {
          "output_type": "stream",
          "name": "stdout",
          "text": [
            "1.0\n"
          ]
        }
      ]
    },
    {
      "cell_type": "code",
      "source": [
        "def prod(x, y) :\n",
        "  z= x * y\n",
        "  return z\n",
        "d= int(input(\"Please enter the required range: \"))\n",
        "for i in range(d) :\n",
        "  if i < 1 :\n",
        "    i = 1\n",
        "  else:\n",
        "    i= i # I used this if statement coz I want the range to start from 1\n",
        "    result = prod(i, 10)\n",
        "    print(f'The product of {i} * 10 is: {result}.')\n"
      ],
      "metadata": {
        "colab": {
          "base_uri": "https://localhost:8080/"
        },
        "id": "Ou4wA37Kt8tX",
        "outputId": "ce9539ca-5353-407f-893e-01fe7481e765"
      },
      "execution_count": 49,
      "outputs": [
        {
          "output_type": "stream",
          "name": "stdout",
          "text": [
            "Please enter the required range: 6\n",
            "The product of 1 * 10 is: 10.\n",
            "The product of 2 * 10 is: 20.\n",
            "The product of 3 * 10 is: 30.\n",
            "The product of 4 * 10 is: 40.\n",
            "The product of 5 * 10 is: 50.\n"
          ]
        }
      ]
    },
    {
      "cell_type": "code",
      "source": [
        "#local and global variables\n",
        "x= 5\n",
        "y= 10\n",
        "def sum():\n",
        "  x1= 3 #local variable it's value only applies inside the function\n",
        "  sum= x + y\n",
        "  return sum\n",
        "print(f'The sum is: {sum()}')\n",
        "print(f'X = {x}')"
      ],
      "metadata": {
        "colab": {
          "base_uri": "https://localhost:8080/"
        },
        "id": "D-lVA0A_1Qz_",
        "outputId": "b9da2d8f-1b47-4c4c-978e-8b969d3863b5"
      },
      "execution_count": 58,
      "outputs": [
        {
          "output_type": "stream",
          "name": "stdout",
          "text": [
            "The sum is: 15\n",
            "X = 5\n"
          ]
        }
      ]
    },
    {
      "cell_type": "code",
      "source": [
        "var1= 50 #global variable\n",
        "var2= 60 #global variable\n",
        "var3= 70 #global variable\n",
        "def myfunction():\n",
        "  globals()['var1']= globals()['var1']+10\n",
        "  global var2\n",
        "  var2= var2 + 20\n",
        "  #globals()['var3']= globals()['var3'] + 30\n",
        "  global var3\n",
        "  var3 = var3 + 30\n",
        "myfunction()\n",
        "print(f'first variable = {var1}, second variable = {var2}, third variable = {var3} ')\n",
        "#shows global variables with changed values"
      ],
      "metadata": {
        "colab": {
          "base_uri": "https://localhost:8080/"
        },
        "id": "Njxa-JoV5Oeg",
        "outputId": "12e6c248-0ec4-4349-d119-2809e15136f5"
      },
      "execution_count": 64,
      "outputs": [
        {
          "output_type": "stream",
          "name": "stdout",
          "text": [
            "first variable = 60, second variable = 80, third variable = 100 \n"
          ]
        }
      ]
    },
    {
      "cell_type": "code",
      "source": [
        "list1 = [\"Rohan\", \"Physics\", 21, 69.75]\n",
        "list2 = [1, 2, 3, 4, 5,6,7]\n",
        "list4 = [\"Rohan\", \"Physics\", 21, 69.75]\n",
        "list3 = [1, 2, 3, 4, 5]\n",
        "print (\"Item at 0th index in list1: \", list1[0])\n",
        "print (\"Item at index 2 in list2: \", list2[1])\n",
        "print(\"*************\")\n",
        "print (\"Item at 0th index in list1 using negative indexing: \", list1[-4])\n",
        "print (\"Item at index 2 in list2 using  negative indexing: \", list2[-5])\n",
        "print(\"*************\")\n",
        "print (\"Items from index 1 to 2 in list1: \", list1[1:3])#?\n",
        "print (\"Items from index 0 to 1 in list2: \", list2[0:2])\n",
        "print(\"*************\")\n",
        "print (\"Items from index 1 to last in list1: \", list1[1:] )\n",
        "print (\"Items from index 0 to 1 in list2: \",list2[:2] )\n",
        "print (\"Items from index 2 to last in list3\", list3[2:])\n",
        "print (\"Items from index 0 to index last in list4\", list4[:])"
      ],
      "metadata": {
        "colab": {
          "base_uri": "https://localhost:8080/"
        },
        "id": "BljaPoJaDzC7",
        "outputId": "3be98768-33b1-46f6-d1d7-d87605bfcaa9"
      },
      "execution_count": 73,
      "outputs": [
        {
          "output_type": "stream",
          "name": "stdout",
          "text": [
            "Item at 0th index in list1:  Rohan\n",
            "Item at index 2 in list2:  2\n",
            "*************\n",
            "Item at 0th index in list1 using negative indexing:  Rohan\n",
            "Item at index 2 in list2 using  negative indexing:  3\n",
            "*************\n",
            "Items from index 1 to 2 in list1:  ['Physics', 21]\n",
            "Items from index 0 to 1 in list2:  [1, 2]\n",
            "*************\n",
            "Items from index 1 to last in list1:  ['Physics', 21, 69.75]\n",
            "Items from index 0 to 1 in list2:  [1, 2]\n",
            "Items from index 2 to last in list3 [3, 4, 5]\n",
            "Items from index 0 to index last in list4 ['Rohan', 'Physics', 21, 69.75]\n"
          ]
        }
      ]
    },
    {
      "cell_type": "markdown",
      "source": [
        "Change an item's value in list"
      ],
      "metadata": {
        "id": "4MQvwqAaQtY8"
      }
    },
    {
      "cell_type": "code",
      "source": [
        "list3 = [1, 2, 3, 4, 5]\n",
        "list3[2] = 10\n",
        "print (\"List after changing value at index 2: \", list3)"
      ],
      "metadata": {
        "colab": {
          "base_uri": "https://localhost:8080/"
        },
        "id": "z-oJaC1BQ2Wg",
        "outputId": "89547708-6f44-499b-b8b4-8e056cd8c0d0"
      },
      "execution_count": 74,
      "outputs": [
        {
          "output_type": "stream",
          "name": "stdout",
          "text": [
            "List after changing value at index 2:  [1, 2, 10, 4, 5]\n"
          ]
        }
      ]
    },
    {
      "cell_type": "markdown",
      "source": [
        "Changing the value of a sublist:"
      ],
      "metadata": {
        "id": "No-cE3tSRgT9"
      }
    },
    {
      "cell_type": "code",
      "source": [
        "list1 = [\"a\", \"b\", \"c\", \"d\"]\n",
        "print (\"Original list: \", list1)\n",
        "list2 = ['Z']\n",
        "list1[1:3] = list2\n",
        "print (\"List after changing with sublist: \", list1)"
      ],
      "metadata": {
        "colab": {
          "base_uri": "https://localhost:8080/"
        },
        "id": "plaFQ5MPRc37",
        "outputId": "91628e89-b360-47c2-8376-4fbf996d6ff3"
      },
      "execution_count": 75,
      "outputs": [
        {
          "output_type": "stream",
          "name": "stdout",
          "text": [
            "Original list:  ['a', 'b', 'c', 'd']\n",
            "List after changing with sublist:  ['a', 'Z', 'd']\n"
          ]
        }
      ]
    },
    {
      "cell_type": "markdown",
      "source": [
        "Iterate over a list and access its elements"
      ],
      "metadata": {
        "id": "uvccwp-cU9IM"
      }
    },
    {
      "cell_type": "code",
      "source": [
        "lst = [25, 12, 10, -21, 10, 100]\n",
        "indices = range(len(lst))\n",
        "print(indices)\n",
        "for i in indices :\n",
        "  print(f'lst[{i}]: ', lst[i])\n",
        "  #print (\"lst[{}]: \".format(i), lst[i])\n",
        "  #print (\"lst[\",i,\"]:\", lst[i])\n",
        ""
      ],
      "metadata": {
        "colab": {
          "base_uri": "https://localhost:8080/"
        },
        "id": "f7LweV1nU8pW",
        "outputId": "3ea85a80-835f-49ca-9963-24423a0f6021"
      },
      "execution_count": 77,
      "outputs": [
        {
          "output_type": "stream",
          "name": "stdout",
          "text": [
            "range(0, 6)\n",
            "lst[0]:  25\n",
            "lst[1]:  12\n",
            "lst[2]:  10\n",
            "lst[3]:  -21\n",
            "lst[4]:  10\n",
            "lst[5]:  100\n"
          ]
        }
      ]
    },
    {
      "cell_type": "markdown",
      "source": [],
      "metadata": {
        "id": "S0eqNjZKfar4"
      }
    },
    {
      "cell_type": "code",
      "source": [
        "nums = [0, 1, 2, 3, 4]\n",
        "squares= [x ** 2 for x in nums]\n",
        "print(squares)\n",
        "#for x in nums :\n",
        "#squares = x ** 2\n",
        "#print(squares)"
      ],
      "metadata": {
        "colab": {
          "base_uri": "https://localhost:8080/"
        },
        "id": "tB73eCSmfcBj",
        "outputId": "8197ac90-912b-4994-8f40-3f0009772b97"
      },
      "execution_count": 82,
      "outputs": [
        {
          "output_type": "stream",
          "name": "stdout",
          "text": [
            "[0, 1, 4, 9, 16]\n"
          ]
        }
      ]
    }
  ]
}