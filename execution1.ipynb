{
  "nbformat": 4,
  "nbformat_minor": 0,
  "metadata": {
    "colab": {
      "provenance": [],
      "authorship_tag": "ABX9TyP4jKFD3GmezKNuWuMADopo",
      "include_colab_link": true
    },
    "kernelspec": {
      "name": "python3",
      "display_name": "Python 3"
    },
    "language_info": {
      "name": "python"
    }
  },
  "cells": [
    {
      "cell_type": "markdown",
      "metadata": {
        "id": "view-in-github",
        "colab_type": "text"
      },
      "source": [
        "<a href=\"https://colab.research.google.com/github/intb78/alaf131023/blob/main/execution1.ipynb\" target=\"_parent\"><img src=\"https://colab.research.google.com/assets/colab-badge.svg\" alt=\"Open In Colab\"/></a>"
      ]
    },
    {
      "cell_type": "code",
      "execution_count": 1,
      "metadata": {
        "colab": {
          "base_uri": "https://localhost:8080/"
        },
        "id": "0eUsBACDFksK",
        "outputId": "afbbc12a-8633-4a7b-e5ef-c1d4b7644e14"
      },
      "outputs": [
        {
          "output_type": "stream",
          "name": "stdout",
          "text": [
            "4 alaf\n"
          ]
        }
      ],
      "source": [
        "x= 4\n",
        "y= \"alaf\"\n",
        "print(x,y)\n",
        "# you don't have to appoint the type. Python appoints it directly"
      ]
    },
    {
      "cell_type": "code",
      "source": [
        "height= float(input(\"Please enter the height: \"))\n",
        "width= float(input(\"Please enter the width: \"))\n",
        "area= height * width\n",
        "print(f'The area is : {area}.')\n",
        "#another way to type this code\n",
        "print(\"The area is :\", area, \".\")"
      ],
      "metadata": {
        "colab": {
          "base_uri": "https://localhost:8080/"
        },
        "id": "-TVySJlzHeX-",
        "outputId": "8beb09cb-3071-43cc-fc00-e5df8c3b235b"
      },
      "execution_count": 3,
      "outputs": [
        {
          "output_type": "stream",
          "name": "stdout",
          "text": [
            "Please enter the height: 30\n",
            "Please enter the width: 20\n",
            "The area is : 600.0.\n",
            "The area is : 600.0 .\n"
          ]
        }
      ]
    },
    {
      "cell_type": "code",
      "source": [],
      "metadata": {
        "id": "4LJiCfFWIpFg"
      },
      "execution_count": null,
      "outputs": []
    }
  ]
}